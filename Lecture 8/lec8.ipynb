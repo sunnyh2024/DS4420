{
 "cells": [
  {
   "cell_type": "code",
   "execution_count": 8,
   "metadata": {},
   "outputs": [],
   "source": [
    "from scipy.integrate import quad"
   ]
  },
  {
   "cell_type": "code",
   "execution_count": 9,
   "metadata": {},
   "outputs": [],
   "source": [
    "def integrand(x):\n",
    "    return (x**3 - x**2 - 0.1*x + 0.6)\n",
    "\n",
    "def expected(x):\n",
    "    return integrand(x) * x"
   ]
  },
  {
   "cell_type": "code",
   "execution_count": 10,
   "metadata": {},
   "outputs": [
    {
     "name": "stdout",
     "output_type": "stream",
     "text": [
      "integral: 0.9999615541264266\n",
      "expected value: 0.9249634633252437\n"
     ]
    }
   ],
   "source": [
    "integral, error = quad(integrand, 0, 1.54337)\n",
    "print(f'integral: {integral}')\n",
    "\n",
    "ex, error = quad(expected, 0, 1.54337)\n",
    "print(f'expected value: {ex}')"
   ]
  }
 ],
 "metadata": {
  "kernelspec": {
   "display_name": "base",
   "language": "python",
   "name": "python3"
  },
  "language_info": {
   "codemirror_mode": {
    "name": "ipython",
    "version": 3
   },
   "file_extension": ".py",
   "mimetype": "text/x-python",
   "name": "python",
   "nbconvert_exporter": "python",
   "pygments_lexer": "ipython3",
   "version": "3.11.4"
  }
 },
 "nbformat": 4,
 "nbformat_minor": 2
}
