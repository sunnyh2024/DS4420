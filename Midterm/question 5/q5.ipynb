{
 "cells": [
  {
   "cell_type": "code",
   "execution_count": 32,
   "metadata": {},
   "outputs": [],
   "source": [
    "import numpy as np\n",
    "from scipy.integrate import quad "
   ]
  },
  {
   "cell_type": "markdown",
   "metadata": {},
   "source": [
    "# Part 1    "
   ]
  },
  {
   "cell_type": "code",
   "execution_count": 33,
   "metadata": {},
   "outputs": [
    {
     "name": "stdout",
     "output_type": "stream",
     "text": [
      "Integral with python: 4.666666666666666\n"
     ]
    }
   ],
   "source": [
    "def f(x): \n",
    "    return x**2 - 3*x + 4\n",
    "\n",
    "result, err = quad(f, 0, 2) \n",
    "\n",
    "print(f'Integral with python: {result}')"
   ]
  },
  {
   "cell_type": "markdown",
   "metadata": {},
   "source": [
    "# Part 2"
   ]
  },
  {
   "cell_type": "code",
   "execution_count": 34,
   "metadata": {},
   "outputs": [
    {
     "name": "stdout",
     "output_type": "stream",
     "text": [
      "Integral with sampling: 4.670282825929295\n"
     ]
    }
   ],
   "source": [
    "x = np.random.uniform(0, 2, 500)\n",
    "\n",
    "samples = f(x) * 2 # p(x) is uniform, so we multiple by 2 (similar to hw4)\n",
    "\n",
    "print(f'Integral with sampling: {np.mean(samples)}')"
   ]
  }
 ],
 "metadata": {
  "kernelspec": {
   "display_name": "base",
   "language": "python",
   "name": "python3"
  },
  "language_info": {
   "codemirror_mode": {
    "name": "ipython",
    "version": 3
   },
   "file_extension": ".py",
   "mimetype": "text/x-python",
   "name": "python",
   "nbconvert_exporter": "python",
   "pygments_lexer": "ipython3",
   "version": "3.11.4"
  }
 },
 "nbformat": 4,
 "nbformat_minor": 2
}
