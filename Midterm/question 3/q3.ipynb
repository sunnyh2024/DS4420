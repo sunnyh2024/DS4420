{
 "cells": [
  {
   "cell_type": "markdown",
   "metadata": {},
   "source": [
    "# Part 1"
   ]
  },
  {
   "cell_type": "code",
   "execution_count": 101,
   "metadata": {},
   "outputs": [],
   "source": [
    "import numpy as np\n",
    "from tabulate import tabulate"
   ]
  },
  {
   "cell_type": "code",
   "execution_count": 102,
   "metadata": {},
   "outputs": [
    {
     "name": "stdout",
     "output_type": "stream",
     "text": [
      "X shape: (1000, 7)\n",
      "y shape: (1000,)\n"
     ]
    }
   ],
   "source": [
    "X = np.genfromtxt(\"life_expectancy_X.csv\", delimiter=\",\")\n",
    "y = np.genfromtxt(\"life_expectancy_y.csv\")\n",
    "\n",
    "print(f'X shape: {X.shape}')\n",
    "print(f'y shape: {y.shape}')"
   ]
  },
  {
   "cell_type": "code",
   "execution_count": 103,
   "metadata": {},
   "outputs": [
    {
     "name": "stdout",
     "output_type": "stream",
     "text": [
      "X scaled shape: (1000, 7)\n",
      "X scaled: [[0.35210526 0.52631579 0.10526316 ... 0.26578947 0.41473684 0.47894737]\n",
      " [0.35052632 0.89473684 0.10526316 ... 0.20105263 0.00736842 0.47473684]\n",
      " [0.17526316 0.57894737 0.21052632 ... 0.22631579 0.27631579 0.16526316]\n",
      " ...\n",
      " [0.46894737 0.21052632 0.26315789 ... 0.15578947 0.51368421 0.25263158]\n",
      " [0.15684211 0.47368421 0.10526316 ... 0.04947368 0.01894737 0.02578947]\n",
      " [0.52315789 0.         0.15789474 ... 0.20368421 0.25210526 0.14473684]]\n"
     ]
    }
   ],
   "source": [
    "# scaling to be between 0 and 1\n",
    "def scale(x):\n",
    "    xmax = np.max(x)\n",
    "    xmin = np.min(x)\n",
    "    xrange = xmax - xmin\n",
    "    \n",
    "    x = (x - xmin) / xrange\n",
    "    return x\n",
    "\n",
    "X_scaled = scale(X)\n",
    "\n",
    "print(f'X scaled shape: {X_scaled.shape}')\n",
    "print(f'X scaled: {X_scaled}')\n"
   ]
  },
  {
   "cell_type": "code",
   "execution_count": 104,
   "metadata": {},
   "outputs": [
    {
     "name": "stdout",
     "output_type": "stream",
     "text": [
      "[57.0572, 15.0005, 0.0286, -19.0715, 0.0137, 0.0068, -0.204, 60.0062]\n"
     ]
    }
   ],
   "source": [
    "# function for gradient descent\n",
    "def lasso(X, y, learning_rate=0.1, iters=1000, alpha=0.1):\n",
    "    _, n = X.shape\n",
    "    w = np.zeros(n)\n",
    "    \n",
    "    for _ in range(iters):\n",
    "        # Calculate predicted y\n",
    "        y_pred = np.dot(X, w)\n",
    "\n",
    "        # get the gradient (with the l1 norm expression)\n",
    "        gradient = X.T.dot(y_pred - y) - alpha * np.sign(w)\n",
    "        w -= learning_rate * gradient\n",
    "        \n",
    "    return w\n",
    "\n",
    "X_bias = np.hstack((X_scaled, np.ones((X.shape[0], 1)))) # add bias so shape is (1000, 8)\n",
    "\n",
    "w = lasso(X_bias, y, learning_rate=0.001, alpha=0.2)\n",
    "\n",
    "# weights\n",
    "print([float(i.round(4)) for i in w])"
   ]
  },
  {
   "cell_type": "markdown",
   "metadata": {},
   "source": [
    "# Part 2\n",
    "\n",
    "According to LASSO, the traits that influence longevity positively the most are exercise amount and number of suppotive relationships. The factors that negatively impact longevity is alcohol, drugs, and smoking. The rest have little impact on longevity. "
   ]
  },
  {
   "cell_type": "markdown",
   "metadata": {},
   "source": [
    "# Part 3"
   ]
  },
  {
   "cell_type": "code",
   "execution_count": 105,
   "metadata": {},
   "outputs": [
    {
     "name": "stdout",
     "output_type": "stream",
     "text": [
      "Feature                     Correlation\n",
      "------------------------  -------------\n",
      "exercise                     0.850863\n",
      "supportive relationships     0.436436\n",
      "siblings                     0.00245975\n",
      "alcohol and drugs           -0.312273\n",
      "height                      -0.0362541\n",
      "attractiveness              -0.0348242\n",
      "work ethics                  0.031364\n"
     ]
    }
   ],
   "source": [
    "feature_labels = [\n",
    "    \"exercise\", \n",
    "    \"supportive relationships\", \n",
    "    \"siblings\", \n",
    "    \"alcohol and drugs\", \n",
    "    \"height\", \n",
    "    \"attractiveness\", \n",
    "    \"work ethics\"\n",
    "]\n",
    "\n",
    "table = []\n",
    "\n",
    "for i in range(X_scaled.shape[1]):\n",
    "    R = np.corrcoef(X_scaled[:, i], y)\n",
    "\n",
    "    table.append([feature_labels[i], R[0, 1]])\n",
    "\n",
    "print(tabulate(table, headers=['Feature', 'Correlation']))"
   ]
  },
  {
   "cell_type": "markdown",
   "metadata": {},
   "source": [
    "# Part 4"
   ]
  },
  {
   "cell_type": "code",
   "execution_count": 106,
   "metadata": {},
   "outputs": [
    {
     "name": "stdout",
     "output_type": "stream",
     "text": [
      "eigenvalues: [0.0903367  0.00795597 0.01141564 0.02051009 0.0242996  0.02293463\n",
      " 0.02350855]\n",
      "eigenvectors: [[ 4.16625725e-03 -1.48102671e-02 -2.09715572e-02 -3.81763612e-01\n",
      "  -5.49344588e-01 -7.42697753e-01 -1.41636506e-02]\n",
      " [-9.98664712e-01  3.42138532e-03 -1.13825708e-02 -4.08798820e-02\n",
      "  -1.37239732e-02  2.58316827e-02 -8.57575504e-04]\n",
      " [ 1.86346295e-03  9.97618044e-01 -4.33262486e-02  2.19182949e-02\n",
      "   1.02703870e-02 -3.80762741e-02  2.90156181e-02]\n",
      " [ 4.68498956e-03 -2.29807883e-02  4.21343660e-02 -3.83565054e-01\n",
      "   4.39859671e-01 -1.44103455e-01  7.97690505e-01]\n",
      " [ 1.07446600e-02 -4.42578710e-02 -9.97084575e-01 -1.30567206e-02\n",
      "   5.81997655e-02 -7.46054931e-03  1.16099973e-02]\n",
      " [ 9.35756514e-03  1.84067719e-02  3.44014998e-02 -5.19018384e-01\n",
      "   5.85264986e-01 -1.55919688e-01 -6.01800654e-01]\n",
      " [-4.92239900e-02 -4.12492744e-02  2.04217634e-02  6.59872909e-01\n",
      "   3.98155558e-01 -6.33364473e-01 -1.86490602e-02]]\n",
      "\n",
      "Best v_hat: [ 0.00416626 -0.01481027 -0.02097156 -0.38176361 -0.54934459 -0.74269775\n",
      " -0.01416365]\n"
     ]
    }
   ],
   "source": [
    "n, m = X_scaled.shape\n",
    "\n",
    "C = np.eye(n) - (1/n) * np.ones((n, n))\n",
    "\n",
    "Q = np.cov(X_scaled.T, bias=True)\n",
    "\n",
    "D, V = np.linalg.eig(Q)\n",
    "\n",
    "print(f\"eigenvalues: {D}\")\n",
    "print(f\"eigenvectors: {V}\\n\")\n",
    "\n",
    "print(f'Best v_hat: {V[0]}') # 0.903367 is the largest eigenvalue, so we want the corresponding eigenvector"
   ]
  },
  {
   "cell_type": "markdown",
   "metadata": {},
   "source": [
    "# Part 5\n",
    "\n",
    "No, not all the results for PCA, LASSO, and correlations agree with each other. LASSO and the correlation table identify exercise amount and number of supportive relations as having the strongest impact on longevity, while drug/alcohol use have the most negative impact. However, the best v_hat for PCA gave the greatest weight to drug use, height, and attractiveness, all of which had a negative impact on longevity. "
   ]
  }
 ],
 "metadata": {
  "kernelspec": {
   "display_name": "base",
   "language": "python",
   "name": "python3"
  },
  "language_info": {
   "codemirror_mode": {
    "name": "ipython",
    "version": 3
   },
   "file_extension": ".py",
   "mimetype": "text/x-python",
   "name": "python",
   "nbconvert_exporter": "python",
   "pygments_lexer": "ipython3",
   "version": "3.11.4"
  }
 },
 "nbformat": 4,
 "nbformat_minor": 2
}
