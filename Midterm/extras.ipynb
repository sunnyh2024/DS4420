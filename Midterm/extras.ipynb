{
 "cells": [
  {
   "cell_type": "code",
   "execution_count": null,
   "metadata": {},
   "outputs": [],
   "source": []
  },
  {
   "cell_type": "code",
   "execution_count": null,
   "metadata": {},
   "outputs": [],
   "source": [
    "# getting X_hat\n",
    "n = 1000\n",
    "\n",
    "# I chose to use a normal distribution\n",
    "def q(x):\n",
    "    return norm.pdf(x, loc=1, scale=0.3) # mean of 15, std of 10\n",
    "\n",
    "# finding k\n",
    "x = np.linspace(0, 2, n)\n",
    "k = max(f(x) / q(x)) + 1\n",
    "\n",
    "plt.plot(x, f(x), color=\"r\", label=\"p(x)\")\n",
    "plt.plot(x, k * q(x), color=\"b\", label=\"q(x)\")\n",
    "plt.title(\"Comparing q(x) to p(x)\")\n",
    "plt.legend()\n",
    "plt.show()\n",
    "\n",
    "# getting samples u from q(x) and v from uniform dist\n",
    "u = np.random.normal(15, 10, size=n)\n",
    "v = np.random.uniform(0, 1, size=n)\n",
    "\n",
    "X_hat = u[f(u) / (k * q(u)) > v] # masking to reject samples\n",
    "\n",
    "# plotting the rejection samples\n",
    "plt.hist(X_hat, bins=30, density=True, alpha=0.5, color='b', label='Rejection Sampling')\n",
    "x_plot = np.linspace(0, 2, 1000)\n",
    "plt.plot(x_plot, f(x_plot), color='r', label='p(x)')\n",
    "plt.xlabel('x')\n",
    "plt.ylabel('Density')\n",
    "plt.title('Rejection Sampling')\n",
    "plt.legend()\n",
    "plt.show()"
   ]
  }
 ],
 "metadata": {
  "language_info": {
   "name": "python"
  }
 },
 "nbformat": 4,
 "nbformat_minor": 2
}
