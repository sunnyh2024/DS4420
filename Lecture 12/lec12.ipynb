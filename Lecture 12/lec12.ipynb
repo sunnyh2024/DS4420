{
 "cells": [
  {
   "cell_type": "code",
   "execution_count": 1,
   "metadata": {},
   "outputs": [],
   "source": [
    "import numpy as np"
   ]
  },
  {
   "cell_type": "code",
   "execution_count": 3,
   "metadata": {},
   "outputs": [],
   "source": [
    "X = np.array([\n",
    "    [0, 0],\n",
    "    [0, 1],\n",
    "    [1, 1],\n",
    "    [2, 2]\n",
    "])"
   ]
  },
  {
   "cell_type": "code",
   "execution_count": 11,
   "metadata": {},
   "outputs": [
    {
     "name": "stdout",
     "output_type": "stream",
     "text": [
      "[[0.91666667 0.66666667]\n",
      " [0.66666667 0.66666667]] \n",
      "\n",
      " [[0.91666667 0.66666667]\n",
      " [0.66666667 0.66666667]]\n"
     ]
    }
   ],
   "source": [
    "C = np.eye(4) - (1/4) * np.ones((4, 4))\n",
    "\n",
    "Q1 = X.T.dot(C).dot(X)/3\n",
    "\n",
    "Q2 = np.cov(X.T, bias=False)\n",
    "\n",
    "print(Q1, \"\\n\\n\", Q2)"
   ]
  },
  {
   "cell_type": "code",
   "execution_count": 13,
   "metadata": {},
   "outputs": [
    {
     "name": "stdout",
     "output_type": "stream",
     "text": [
      "1.469950858170821 \n",
      "\n",
      " 0.11338247516251224\n"
     ]
    }
   ],
   "source": [
    "D, V = np.linalg.eigvals(Q1)\n",
    "\n",
    "print(D, \"\\n\\n\", V)"
   ]
  }
 ],
 "metadata": {
  "kernelspec": {
   "display_name": "base",
   "language": "python",
   "name": "python3"
  },
  "language_info": {
   "codemirror_mode": {
    "name": "ipython",
    "version": 3
   },
   "file_extension": ".py",
   "mimetype": "text/x-python",
   "name": "python",
   "nbconvert_exporter": "python",
   "pygments_lexer": "ipython3",
   "version": "3.11.4"
  }
 },
 "nbformat": 4,
 "nbformat_minor": 2
}
