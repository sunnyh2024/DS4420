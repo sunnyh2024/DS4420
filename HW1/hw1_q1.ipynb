{
 "cells": [
  {
   "cell_type": "code",
   "execution_count": null,
   "metadata": {},
   "outputs": [],
   "source": [
    "# imports\n",
    "import numpy as np"
   ]
  },
  {
   "cell_type": "markdown",
   "metadata": {},
   "source": [
    "__Question 1:__"
   ]
  },
  {
   "cell_type": "code",
   "execution_count": null,
   "metadata": {},
   "outputs": [],
   "source": [
    "# initializing the matrices\n",
    "x = np.array([\n",
    "    [2],\n",
    "    [2],\n",
    "    [6]\n",
    "])\n",
    "\n",
    "X = np.array([\n",
    "    [-4, 7, 5],\n",
    "    [1, -9, 2],\n",
    "    [8, 3, 6]\n",
    "])\n",
    "\n",
    "Y = np.array([\n",
    "    [2, 4, 6],\n",
    "    [1, 0, 13],\n",
    "    [-4, 5, 5]\n",
    "])\n",
    "\n",
    "Z = np.array([\n",
    "    [4, -1, 0],\n",
    "    [1, 1, 1]\n",
    "])"
   ]
  },
  {
   "cell_type": "markdown",
   "metadata": {},
   "source": [
    "Verifying the calculations"
   ]
  },
  {
   "cell_type": "code",
   "execution_count": null,
   "metadata": {},
   "outputs": [
    {
     "data": {
      "text/plain": [
       "array([[-102,  418,  684]])"
      ]
     },
     "metadata": {},
     "output_type": "display_data"
    }
   ],
   "source": [
    "# 1) x^T X Y\n",
    "np.matmul(np.transpose(x), np.matmul(X, Y))"
   ]
  },
  {
   "cell_type": "code",
   "execution_count": null,
   "metadata": {},
   "outputs": [
    {
     "data": {
      "text/plain": [
       "array([[ 44,  -4,  54],\n",
       "       [100,  46,  83],\n",
       "       [ 61, -58,  20]])"
      ]
     },
     "metadata": {},
     "output_type": "display_data"
    }
   ],
   "source": [
    "# 2) YX\n",
    "np.matmul(Y, X)"
   ]
  },
  {
   "cell_type": "code",
   "execution_count": null,
   "metadata": {},
   "outputs": [
    {
     "data": {
      "text/plain": [
       "array([[-43,  46,  51],\n",
       "       [ -3,  25, -30],\n",
       "       [ -4,  66, 108]])"
      ]
     },
     "metadata": {},
     "output_type": "display_data"
    }
   ],
   "source": [
    "# 3) 2X + 2Y + X^T Y\n",
    "2*X + 2*Y + np.matmul(np.transpose(X), Y)"
   ]
  },
  {
   "cell_type": "code",
   "execution_count": null,
   "metadata": {},
   "outputs": [
    {
     "data": {
      "text/plain": [
       "array([[  4,  12],\n",
       "       [  4,  14],\n",
       "       [-21,   6]])"
      ]
     },
     "metadata": {},
     "output_type": "display_data"
    }
   ],
   "source": [
    "# 4) YZ^T\n",
    "np.matmul(Y, np.transpose(Z))"
   ]
  },
  {
   "cell_type": "code",
   "execution_count": null,
   "metadata": {},
   "outputs": [
    {
     "data": {
      "text/plain": [
       "array([[34],\n",
       "       [ 4],\n",
       "       [10]])"
      ]
     },
     "metadata": {},
     "output_type": "display_data"
    }
   ],
   "source": [
    "# 5) Z^T Z x\n",
    "np.matmul(np.transpose(Z), np.matmul(Z, x))"
   ]
  }
 ],
 "metadata": {
  "language_info": {
   "name": "python"
  }
 },
 "nbformat": 4,
 "nbformat_minor": 2
}
