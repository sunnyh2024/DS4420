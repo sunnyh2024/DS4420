{
 "cells": [
  {
   "cell_type": "code",
   "execution_count": 21,
   "metadata": {},
   "outputs": [],
   "source": [
    "import numpy as np\n",
    "import matplotlib.pyplot as plt"
   ]
  },
  {
   "cell_type": "markdown",
   "metadata": {},
   "source": [
    "# Question 1"
   ]
  },
  {
   "cell_type": "code",
   "execution_count": 22,
   "metadata": {},
   "outputs": [
    {
     "name": "stdout",
     "output_type": "stream",
     "text": [
      "distance (D): [[1.34164079]]\n",
      "intersection: [[1.2]\n",
      " [0.6]]\n"
     ]
    }
   ],
   "source": [
    "u = np.array([[1], [1]])\n",
    "v = np.array([[2], [1]])\n",
    "\n",
    "v_hat = v / np.linalg.norm(v)\n",
    "\n",
    "d = u.T.dot(v_hat)\n",
    "print(f\"distance (D): {d}\")\n",
    "\n",
    "intersection = d * v_hat\n",
    "print(f\"intersection: {intersection}\")"
   ]
  },
  {
   "cell_type": "markdown",
   "metadata": {},
   "source": [
    "# Question 2"
   ]
  },
  {
   "cell_type": "code",
   "execution_count": 23,
   "metadata": {},
   "outputs": [],
   "source": [
    "X_0 = np.array([\n",
    "    [-2, 1],\n",
    "    [0, 3],\n",
    "    [1, 4],\n",
    "    [1, 5],\n",
    "    [2, 5]\n",
    "])\n",
    "\n",
    "X_1 = np.array([\n",
    "    [0, 0],\n",
    "    [1, 1],\n",
    "    [2, 1],\n",
    "    [3, 2],\n",
    "    [4, 3]\n",
    "])"
   ]
  },
  {
   "cell_type": "code",
   "execution_count": 24,
   "metadata": {},
   "outputs": [],
   "source": [
    "# Get centering matrix C\n",
    "X = np.vstack((X_0, X_1))\n",
    "\n",
    "c0 = np.reshape(np.mean(X_0, axis=0), (2, 1))\n",
    "c1 = np.reshape(np.mean(X_1, axis=0), (2, 1))\n",
    "\n",
    "C = np.eye(5) - (1/5) * np.ones((5, 5))\n",
    "\n",
    "R1 = c0 - c1\n",
    "S2 = X_0.T.dot(C).dot(X_0) + X_1.T.dot(C).dot(X_1)\n",
    "v_lda = np.linalg.inv(S2).dot(R1)\n",
    "\n",
    "v_lda_hat = v_lda / np.linalg.norm(v_lda)\n",
    "X_0p = (X_0 - np.mean(X, axis=0)).dot(v_lda_hat).dot(v_lda_hat.T)\n",
    "X_1p = (X_1 - np.mean(X, axis=0)).dot(v_lda_hat).dot(v_lda_hat.T)\n",
    "\n",
    "px = np.arange(-4, 4, 0.1)\n",
    "py = px * v_lda_hat[1] / v_lda[0]"
   ]
  },
  {
   "cell_type": "code",
   "execution_count": 25,
   "metadata": {},
   "outputs": [],
   "source": [
    "C = np.eye(10) - (1/10)*np.ones((10,10))\n",
    "C_X = C.dot(X)\n",
    "\n",
    "[D, V] = np.linalg.eigh(X.T.dot(C).dot(X))\n",
    "v_pca = np.reshape(V[:, 1], (2, 1))\n",
    "\n",
    "v_pca_hat = v_pca / np.linalg.norm(v_pca)\n",
    "X_0p2 = (X_0 - np.mean(X_0, axis=0)).dot(v_pca_hat).dot(v_pca_hat.T)\n",
    "X_1p2 = (X_1 - np.mean(X_1, axis=0)).dot(v_pca_hat).dot(v_pca_hat.T)"
   ]
  },
  {
   "cell_type": "code",
   "execution_count": 28,
   "metadata": {},
   "outputs": [
    {
     "data": {
      "image/png": "[encoded data removed]",
      "text/plain": [
       "<Figure size 640x480 with 1 Axes>"
      ]
     },
     "metadata": {},
     "output_type": "display_data"
    }
   ],
   "source": [
    "q = [-5, 5]\n",
    "plt.scatter(X_0[:, 0], X_0[:, 1], color=\"red\")\n",
    "plt.scatter(X_1[:, 0], X_1[:, 1], color=\"blue\", label=\"Original data (not centered)\")\n",
    "\n",
    "plt.scatter(C_X[0:5, 0], C_X[0:5, 1], color=\"red\")\n",
    "plt.scatter(C_X[5:10, 0], C_X[5:10, 1], color=\"blue\")\n",
    "plt.plot(px, py, label=\"LDA line\", color=\"green\")\n",
    "\n",
    "plt.xlim(q)\n",
    "plt.ylim(q)\n",
    "\n",
    "plt.show()"
   ]
  },
  {
   "cell_type": "code",
   "execution_count": null,
   "metadata": {},
   "outputs": [],
   "source": []
  }
 ],
 "metadata": {
  "kernelspec": {
   "display_name": "base",
   "language": "python",
   "name": "python3"
  },
  "language_info": {
   "codemirror_mode": {
    "name": "ipython",
    "version": 3
   },
   "file_extension": ".py",
   "mimetype": "text/x-python",
   "name": "python",
   "nbconvert_exporter": "python",
   "pygments_lexer": "ipython3",
   "version": "3.11.4"
  }
 },
 "nbformat": 4,
 "nbformat_minor": 2
}
